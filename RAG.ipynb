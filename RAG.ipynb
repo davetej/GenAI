{
 "cells": [
  {
   "cell_type": "code",
   "execution_count": 24,
   "id": "9dce8cae-168a-4d03-810f-d97d7060f116",
   "metadata": {},
   "outputs": [],
   "source": [
    "import bs4\n",
    "from langchain.chains import create_history_aware_retriever, create_retrieval_chain\n",
    "from langchain.chains.combine_documents import create_stuff_documents_chain\n",
    "from langchain_chroma import Chroma\n",
    "from langchain_community.chat_message_histories import ChatMessageHistory\n",
    "from langchain_core.chat_history import BaseChatMessageHistory\n",
    "from langchain_core.prompts import ChatPromptTemplate, MessagesPlaceholder\n",
    "from langchain_core.runnables.history import RunnableWithMessageHistory\n",
    "from langchain_openai import ChatOpenAI, OpenAIEmbeddings\n",
    "from langchain_text_splitters import RecursiveCharacterTextSplitter\n",
    "from langchain.document_loaders import PyPDFLoader\n",
    "import json\n",
    "import os\n",
    "from dotenv import load_dotenv, dotenv_value\n",
    "llm = ChatOpenAI(temperature=0,model=\"gpt-4o-mini\",api_key=os.getenv(\"OPENAI_API_KEY\"))\n",
    "\n",
    "load_dotenv()"
   ]
  },
  {
   "cell_type": "code",
   "execution_count": 26,
   "id": "193d01c8-e587-4e99-afdd-abd63762ad04",
   "metadata": {},
   "outputs": [
    {
     "name": "stderr",
     "output_type": "stream",
     "text": [
      "C:\\Users\\admin\\anaconda3\\envs\\GenAIWorkSpace\\lib\\site-packages\\langchain_community\\document_loaders\\parsers\\pdf.py:125: UserWarning: Unknown PDF Filter!\n",
      "  warnings.warn(\"Unknown PDF Filter!\")\n"
     ]
    }
   ],
   "source": [
    "### Load Document ###\n",
    "# Update to handle PDF document loading\n",
    "pdf_path = \"Dental_Assitant_Book.pdf\"  # Replace with your PDF file path\n",
    "loader = PyPDFLoader(pdf_path,extract_images=True)\n",
    "docs = loader.load()\n",
    "\n",
    "### Split Document ###\n",
    "text_splitter = RecursiveCharacterTextSplitter(chunk_size=1000, chunk_overlap=200)\n",
    "splits = text_splitter.split_documents(docs)"
   ]
  },
  {
   "cell_type": "code",
   "execution_count": 27,
   "id": "a61cdf87-fc18-4955-9a65-94caebbcd949",
   "metadata": {},
   "outputs": [],
   "source": [
    "### Construct Retriever ###\n",
    "vectorstore = Chroma.from_documents(documents=splits, embedding=OpenAIEmbeddings(api_key=os.getenv(\"OPENAI_API_KEY\")))\n",
    "retriever = vectorstore.as_retriever()"
   ]
  },
  {
   "cell_type": "code",
   "execution_count": 44,
   "id": "6a1af683-a59d-445f-82a9-bb854424e729",
   "metadata": {},
   "outputs": [],
   "source": [
    "### Contextualize Question ###\n",
    "contextualize_q_system_prompt = \"\"\"Given a chat history and the latest user question \\\n",
    "which might reference context in the chat history, formulate a standalone question \\\n",
    "which can be understood without the chat history. Do NOT answer the question, \\\n",
    "just reformulate it if needed and otherwise return it as is.\"\"\"\n",
    "contextualize_q_prompt = ChatPromptTemplate.from_messages(\n",
    "    [\n",
    "        (\"system\", contextualize_q_system_prompt),\n",
    "        MessagesPlaceholder(\"chat_history\"),\n",
    "        (\"human\", \"{input}\"),\n",
    "    ]\n",
    ")\n",
    "history_aware_retriever = create_history_aware_retriever(\n",
    "    llm, retriever, contextualize_q_prompt\n",
    ")\n",
    "\n",
    "### Answer Question ###\n",
    "qa_system_prompt = \"\"\"You are an assistant for question-answering tasks. \\\n",
    "Use the following pieces of retrieved context to answer the question. \\\n",
    "If you don't know the answer, just say that you don't know. \\\n",
    "Use three sentences maximum and keep the answer concise. Make sure to have proper formatted structure\n",
    "\n",
    "{context}\"\"\"\n",
    "qa_prompt = ChatPromptTemplate.from_messages(\n",
    "    [\n",
    "        (\"system\", qa_system_prompt),\n",
    "        MessagesPlaceholder(\"chat_history\"),\n",
    "        (\"human\", \"{input}\"),\n",
    "    ]\n",
    ")\n",
    "question_answer_chain = create_stuff_documents_chain(llm, qa_prompt)\n",
    "\n",
    "rag_chain = create_retrieval_chain(history_aware_retriever, question_answer_chain)\n",
    "\n",
    "### Statefully Manage Chat History ###\n",
    "store = {}\n",
    "\n",
    "def get_session_history(session_id: str) -> BaseChatMessageHistory:\n",
    "    if session_id not in store:\n",
    "        store[session_id] = ChatMessageHistory()\n",
    "    return store[session_id]\n",
    "\n",
    "conversational_rag_chain = RunnableWithMessageHistory(\n",
    "    rag_chain,\n",
    "    get_session_history,\n",
    "    input_messages_key=\"input\",\n",
    "    history_messages_key=\"chat_history\",\n",
    "    output_messages_key=\"answer\",\n",
    ")"
   ]
  },
  {
   "cell_type": "code",
   "execution_count": 51,
   "id": "c2faee69-e952-486c-9f9b-02bb104da7bb",
   "metadata": {},
   "outputs": [
    {
     "name": "stdout",
     "output_type": "stream",
     "text": [
      "**Advantages:**\n",
      "1. Immediate viewing of images, allowing for quicker clinical decisions.\n",
      "2. Requires significantly less radiation compared to conventional film-based radiography.\n",
      "3. Eliminates the need for chemical processing and allows for easy electronic transfer of images.\n",
      "\n",
      "**Disadvantages:**\n",
      "1. High initial setup costs for digital radiography systems.\n",
      "2. Sensors can be fragile and expensive to replace if damaged.\n",
      "3. Users may require time to learn and become comfortable with the software.\n"
     ]
    }
   ],
   "source": [
    "response = conversational_rag_chain.invoke(\n",
    "        {\"input\": \"Advantages and Disadvantages of Digital Radiography \"},\n",
    "        config={\n",
    "            \"configurable\": {\"session_id\": \"456\"}\n",
    "        },\n",
    "    )[\"answer\"]\n",
    "print(response, end='\\n')"
   ]
  },
  {
   "cell_type": "code",
   "execution_count": 70,
   "id": "b8db5189-7019-4225-b8ff-76ac8142a340",
   "metadata": {},
   "outputs": [
    {
     "data": {
      "text/plain": [
       "[Document(id='d40ef31b-1e9b-4c9f-b9fa-c1e01a9415b0', metadata={'page': 1740, 'source': 'riya dental assisting book.pdf'}, page_content='BOX 39.1\\n\\u2003\\nAdvantages and Disadvantages of Digital\\nRadiography\\nAdvantages\\nImmediate Viewing of Images\\nIn conventional radiography, reading the image is delayed because the film\\nmust be processed. Being able to immediately view the image is a significant\\nclinical advantage\\nNote:\\n Only charge-coupled devices (CCDs) provide immediate viewing.\\nPhosphorous plate digital technology requires that the irradiated sensor be\\nplaced in a processing device to scan it and put the information into a\\ncomputer, so that the image can be viewed.\\nLess Radiation\\nDigital radiography requires \\nmuch less x-radiation\\n than conventional film-\\nbased radiography because the sensor is \\nmore sensitive\\n to x-rays than is\\nconventional film. Exposure times for digital radiography are 70 to 80\\npercent less than those required for radiography with conventional film.\\nWith less radiation, the absorbed dose to the patient is significantly lower.\\nNo Chemicals'),\n",
       " Document(id='4275c825-6405-4705-9535-bdaed722f4d8', metadata={'page': 1728, 'source': 'riya dental assisting book.pdf'}, page_content='Digital Radiography\\nDigital radiography has revolutionized dentistry (\\nFig. 39.1\\n). Digital imaging\\neliminates chemical processing and hazardous wastes from chemicals and lead\\nfoil. Images can be electronically transferred to other healthcare providers\\nwithout loss of the original image quality. A significant advantage is that it\\nrequires less radiation than film, thus reducing radiation to the patient. Finally,\\ndigital imaging allows enhancements, measurements, and corrections that are\\nnot available with film (\\nFig. 39.2\\n). Digital systems also have disadvantages\\ncompared with film. The initial cost is relatively high, and the sensors can be\\ndamaged if handled improperly and are costly to replace.\\nWhen digital radiography is discussed, the term \\ndigital images\\n is used\\ninstead of \\nradiographs\\n, x-rays, or films. The digital images are not radiographs\\nbut electronic signals that are captured by sensors and displayed on a computer'),\n",
       " Document(id='c04bf348-3cdf-4552-924d-229e2a846cce', metadata={'page': 1741, 'source': 'riya dental assisting book.pdf'}, page_content='Cost\\nAt the present time, the cost of purchasing a digital radiography setup can be\\nsubstantial depending on the configuration. When considering the cost, one\\nshould carefully consider the advantages and disadvantages of digital\\nradiography.\\nConverting Previous Records to Digital\\nPrevious patient radiographs must be digitized (scanned) into digital\\nrecords. To do this at one time for all the patient records in the practice can\\nbe very costly. It is best to do this gradually as patients come in for recall\\nappointments. Spreading the labor costs over many months is more\\nmanageable.\\nLearning the Computer Software\\nAs with all computer programs, users need time to become comfortable with\\nthe software. Software programs vary, depending on the manufacturer.\\nThickness and Rigidity of Sensors\\nCCD sensors vary in thickness depending on the manufacturer. Care must be\\ntaken during placement to avoid discomfort to the patient. Phosphor storage'),\n",
       " Document(id='05778f7d-ffca-4a89-b049-46c490f7999a', metadata={'page': 1740, 'source': 'riya dental assisting book.pdf'}, page_content='percent less than those required for radiography with conventional film.\\nWith less radiation, the absorbed dose to the patient is significantly lower.\\nNo Chemicals\\nIt is not necessary to maintain, change, and dispose of processing chemicals.\\nThe need for a darkroom is eliminated, and gone are the stains and odors\\nfrom the developing and fixing solutions.\\nAbility to Enhance Images\\nDigital radiography allows the dentist to change the contrast (to lighter or\\ndarker), enlarge images, place color enhancements, and so forth. It also\\nallows for immediate and effective patient education.\\nCommunication with Other Dentists\\nDigital radiography provides the ability to send images to other practitioners\\nin a matter of minutes. This can be useful when consulting with another\\npractitioner, especially when the patient is still in the chair. Email is the\\nmethod most commonly used to send images.\\nNo More Lost Films\\nOccasionally, a film is lost from a patient’s chart and cannot be replaced.')]"
      ]
     },
     "execution_count": 70,
     "metadata": {},
     "output_type": "execute_result"
    }
   ],
   "source": [
    "retriever.invoke('Advantages and Disadvantages of Digital Radiography ')"
   ]
  },
  {
   "cell_type": "code",
   "execution_count": 52,
   "id": "83e79664-19e3-4736-8a60-f5e2fbe7e511",
   "metadata": {},
   "outputs": [
    {
     "name": "stdout",
     "output_type": "stream",
     "text": [
      "Digital radiography requires significantly less radiation than conventional film-based radiography because the sensors used are more sensitive to x-rays. This increased sensitivity allows for shorter exposure times, typically reducing the required radiation dose by 70 to 80 percent compared to traditional film methods. As a result, patients receive a lower absorbed dose of radiation, which is a crucial advantage in minimizing potential health risks associated with x-ray exposure.\n"
     ]
    }
   ],
   "source": [
    "response = conversational_rag_chain.invoke(\n",
    "        {\"input\": \"Expand on point number 2\"},\n",
    "        config={\n",
    "            \"configurable\": {\"session_id\": \"456\"}\n",
    "        },\n",
    "    )[\"answer\"]\n",
    "print(response, end='\\n')"
   ]
  },
  {
   "cell_type": "code",
   "execution_count": 53,
   "id": "fcf10f3a-473a-441a-83e5-53e90d3c0826",
   "metadata": {},
   "outputs": [
    {
     "name": "stdout",
     "output_type": "stream",
     "text": [
      "Digital radiography is used by positioning a digital sensor or phosphor storage plate (PSP) in the patient's mouth, similar to traditional film placement. The conventional x-ray machine is then activated to expose the sensor to x-radiation, capturing the image as electronic signals. These signals are processed and displayed almost instantaneously on a computer monitor, allowing for immediate review and analysis by dental professionals.\n"
     ]
    }
   ],
   "source": [
    "response = conversational_rag_chain.invoke(\n",
    "        {\"input\": \"how it is used?\"},\n",
    "        config={\n",
    "            \"configurable\": {\"session_id\": \"456\"}\n",
    "        },\n",
    "    )[\"answer\"]\n",
    "print(response, end='\\n')"
   ]
  },
  {
   "cell_type": "raw",
   "id": "8485d751-76f5-4bc3-9e12-dc2399fa7a33",
   "metadata": {},
   "source": [
    "## For looping over a convertion\n",
    "\n",
    "while True:\n",
    "    _input = input(\"User::\")\n",
    "    if _input == 'exit()':\n",
    "        print(\"Thank you for using me you can come back to continue..\", end='\\n')\n",
    "        break\n",
    "    else:\n",
    "        response = conversational_rag_chain.invoke(\n",
    "            {\"input\": _input},\n",
    "            config={\n",
    "                \"configurable\": {\"session_id\": \"456\"}\n",
    "            },\n",
    "        )[\"answer\"]\n",
    "        print(response, end='\\n')"
   ]
  },
  {
   "cell_type": "code",
   "execution_count": 62,
   "id": "1adeb517-03ff-4dba-83a9-897840b28a62",
   "metadata": {},
   "outputs": [
    {
     "data": {
      "text/plain": [
       "dict_keys(['4565', '1234', '456'])"
      ]
     },
     "execution_count": 62,
     "metadata": {},
     "output_type": "execute_result"
    }
   ],
   "source": [
    "store.keys()"
   ]
  },
  {
   "cell_type": "code",
   "execution_count": 66,
   "id": "7255341f-e2b4-4666-b026-31142e181b15",
   "metadata": {},
   "outputs": [
    {
     "name": "stdout",
     "output_type": "stream",
     "text": [
      "Human: Advantages and Disadvantages of Digital Radiography \n",
      "AI: **Advantages:**\n",
      "1. Immediate viewing of images, allowing for quicker clinical decisions.\n",
      "2. Requires significantly less radiation compared to conventional film-based radiography.\n",
      "3. Eliminates the need for chemical processing and allows for easy electronic transfer of images.\n",
      "\n",
      "**Disadvantages:**\n",
      "1. High initial setup costs for digital radiography systems.\n",
      "2. Sensors can be fragile and expensive to replace if damaged.\n",
      "3. Users may require time to learn and become comfortable with the software.\n",
      "Human: Expand on point number 2\n",
      "AI: Digital radiography requires significantly less radiation than conventional film-based radiography because the sensors used are more sensitive to x-rays. This increased sensitivity allows for shorter exposure times, typically reducing the required radiation dose by 70 to 80 percent compared to traditional film methods. As a result, patients receive a lower absorbed dose of radiation, which is a crucial advantage in minimizing potential health risks associated with x-ray exposure.\n",
      "Human: how it is used?\n",
      "AI: Digital radiography is used by positioning a digital sensor or phosphor storage plate (PSP) in the patient's mouth, similar to traditional film placement. The conventional x-ray machine is then activated to expose the sensor to x-radiation, capturing the image as electronic signals. These signals are processed and displayed almost instantaneously on a computer monitor, allowing for immediate review and analysis by dental professionals.\n"
     ]
    }
   ],
   "source": [
    "print(store['456'],end='\\n')"
   ]
  }
 ],
 "metadata": {
  "kernelspec": {
   "display_name": "Python 3 (ipykernel)",
   "language": "python",
   "name": "python3"
  },
  "language_info": {
   "codemirror_mode": {
    "name": "ipython",
    "version": 3
   },
   "file_extension": ".py",
   "mimetype": "text/x-python",
   "name": "python",
   "nbconvert_exporter": "python",
   "pygments_lexer": "ipython3",
   "version": "3.9.21"
  }
 },
 "nbformat": 4,
 "nbformat_minor": 5
}
