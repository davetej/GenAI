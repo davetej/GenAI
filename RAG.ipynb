{
 "cells": [
  {
   "cell_type": "code",
   "execution_count": 24,
   "id": "9dce8cae-168a-4d03-810f-d97d7060f116",
   "metadata": {},
   "outputs": [],
   "source": [
    "import bs4\n",
    "from langchain.chains import create_history_aware_retriever, create_retrieval_chain\n",
    "from langchain.chains.combine_documents import create_stuff_documents_chain\n",
    "from langchain_chroma import Chroma\n",
    "from langchain_community.chat_message_histories import ChatMessageHistory\n",
    "from langchain_core.chat_history import BaseChatMessageHistory\n",
    "from langchain_core.prompts import ChatPromptTemplate, MessagesPlaceholder\n",
    "from langchain_core.runnables.history import RunnableWithMessageHistory\n",
    "from langchain_openai import ChatOpenAI, OpenAIEmbeddings\n",
    "from langchain_text_splitters import RecursiveCharacterTextSplitter\n",
    "from langchain.document_loaders import PyPDFLoader\n",
    "import json\n",
    "import os\n",
    "from dotenv import load_dotenv, dotenv_value\n",
    "llm = ChatOpenAI(temperature=0,model=\"gpt-4o-mini\",api_key=os.getenv(\"OPENAI_API_KEY\"))\n",
    "\n",
    "load_dotenv()"
   ]
  },
  {
   "cell_type": "code",
   "execution_count": 26,
   "id": "193d01c8-e587-4e99-afdd-abd63762ad04",
   "metadata": {},
   "outputs": [
    {
     "name": "stderr",
     "output_type": "stream",
     "text": [
      "C:\\Users\\admin\\anaconda3\\envs\\GenAIWorkSpace\\lib\\site-packages\\langchain_community\\document_loaders\\parsers\\pdf.py:125: UserWarning: Unknown PDF Filter!\n",
      "  warnings.warn(\"Unknown PDF Filter!\")\n"
     ]
    }
   ],
   "source": [
    "### Load Document ###\n",
    "# Update to handle PDF document loading\n",
    "pdf_path = \"Dental_Assitant_Book.pdf\"  # Replace with your PDF file path\n",
    "loader = PyPDFLoader(pdf_path,extract_images=True)\n",
    "docs = loader.load()\n",
    "\n",
    "### Split Document ###\n",
    "text_splitter = RecursiveCharacterTextSplitter(chunk_size=1000, chunk_overlap=200)\n",
    "splits = text_splitter.split_documents(docs)"
   ]
  },
  {
   "cell_type": "code",
   "execution_count": 27,
   "id": "a61cdf87-fc18-4955-9a65-94caebbcd949",
   "metadata": {},
   "outputs": [],
   "source": [
    "### Construct Retriever ###\n",
    "vectorstore = Chroma.from_documents(documents=splits, embedding=OpenAIEmbeddings(api_key=os.getenv(\"OPENAI_API_KEY\")))\n",
    "retriever = vectorstore.as_retriever()"
   ]
  },
  {
   "cell_type": "code",
   "execution_count": 28,
   "id": "6a1af683-a59d-445f-82a9-bb854424e729",
   "metadata": {},
   "outputs": [],
   "source": [
    "### Contextualize Question ###\n",
    "contextualize_q_system_prompt = \"\"\"Given a chat history and the latest user question \\\n",
    "which might reference context in the chat history, formulate a standalone question \\\n",
    "which can be understood without the chat history. Do NOT answer the question, \\\n",
    "just reformulate it if needed and otherwise return it as is.\"\"\"\n",
    "contextualize_q_prompt = ChatPromptTemplate.from_messages(\n",
    "    [\n",
    "        (\"system\", contextualize_q_system_prompt),\n",
    "        MessagesPlaceholder(\"chat_history\"),\n",
    "        (\"human\", \"{input}\"),\n",
    "    ]\n",
    ")\n",
    "history_aware_retriever = create_history_aware_retriever(\n",
    "    llm, retriever, contextualize_q_prompt\n",
    ")\n",
    "\n",
    "### Answer Question ###\n",
    "qa_system_prompt = \"\"\"You are an assistant for question-answering tasks. \\\n",
    "Use the following pieces of retrieved context to answer the question. \\\n",
    "If you don't know the answer, just say that you don't know. \\\n",
    "Use three sentences maximum and keep the answer concise.\n",
    "\n",
    "{context}\"\"\"\n",
    "qa_prompt = ChatPromptTemplate.from_messages(\n",
    "    [\n",
    "        (\"system\", qa_system_prompt),\n",
    "        MessagesPlaceholder(\"chat_history\"),\n",
    "        (\"human\", \"{input}\"),\n",
    "    ]\n",
    ")\n",
    "question_answer_chain = create_stuff_documents_chain(llm, qa_prompt)\n",
    "\n",
    "rag_chain = create_retrieval_chain(history_aware_retriever, question_answer_chain)\n",
    "\n",
    "### Statefully Manage Chat History ###\n",
    "store = {}\n",
    "\n",
    "def get_session_history(session_id: str) -> BaseChatMessageHistory:\n",
    "    if session_id not in store:\n",
    "        store[session_id] = ChatMessageHistory()\n",
    "    return store[session_id]\n",
    "\n",
    "conversational_rag_chain = RunnableWithMessageHistory(\n",
    "    rag_chain,\n",
    "    get_session_history,\n",
    "    input_messages_key=\"input\",\n",
    "    history_messages_key=\"chat_history\",\n",
    "    output_messages_key=\"answer\",\n",
    ")"
   ]
  },
  {
   "cell_type": "code",
   "execution_count": 40,
   "id": "23595b47-731f-4c53-8670-928a7dde5479",
   "metadata": {},
   "outputs": [
    {
     "name": "stdin",
     "output_type": "stream",
     "text": [
      "User:: What is rubber DAM\n"
     ]
    },
    {
     "name": "stdout",
     "output_type": "stream",
     "text": [
      "A rubber dam is a dental tool made of a thin, flexible sheet of latex or latex-free material that is used to isolate specific teeth during dental procedures. It serves several important functions:\n",
      "\n",
      "- **Isolation**: The rubber dam keeps the treatment area dry and free from saliva, blood, and other contaminants, which is essential for successful procedures like fillings, root canals, and crowns.\n",
      "- **Visibility**: By isolating the teeth, it enhances visibility for the dentist, allowing for more precise work.\n",
      "- **Infection Control**: It acts as a barrier to reduce the risk of contamination from bacteria and debris.\n",
      "- **Patient Comfort**: The rubber dam minimizes the risk of water and materials entering the patient's mouth, helping to reduce anxiety during treatment.\n",
      "\n",
      "Overall, the rubber dam is a valuable tool in modern dentistry that improves the quality and safety of dental care.\n"
     ]
    },
    {
     "name": "stdin",
     "output_type": "stream",
     "text": [
      "User:: Elaborate all the points\n"
     ]
    },
    {
     "name": "stdout",
     "output_type": "stream",
     "text": [
      "Certainly! Here’s a more detailed explanation of each point regarding rubber dams in dentistry:\n",
      "\n",
      "### 1. **Isolation**\n",
      "- **Function**: The primary purpose of a rubber dam is to isolate the specific teeth being treated from the rest of the oral cavity. This isolation is crucial for maintaining a clean and dry working environment.\n",
      "- **Importance**: Many dental procedures require a dry field to ensure that materials (like dental adhesives or fillings) bond properly. Moisture can compromise the effectiveness of these materials, leading to treatment failure.\n",
      "\n",
      "### 2. **Visibility**\n",
      "- **Enhanced Access**: By isolating the treatment area, the rubber dam allows the dentist to have a clear view of the tooth or teeth being worked on. This is particularly important in complex procedures where precision is key.\n",
      "- **Reduced Distractions**: The rubber dam also helps to retract the lips, tongue, and cheeks, minimizing distractions and allowing the dentist to focus solely on the procedure without interference from surrounding tissues.\n",
      "\n",
      "### 3. **Infection Control**\n",
      "- **Barrier Against Contamination**: The rubber dam acts as a physical barrier that prevents saliva and other oral fluids from contaminating the treatment area. This is especially important in procedures involving the pulp of the tooth, such as root canals, where maintaining a sterile environment is critical.\n",
      "- **Reduced Risk of Cross-Contamination**: By isolating the area, the rubber dam helps to minimize the risk of spreading bacteria and pathogens, contributing to better overall infection control during dental treatments.\n",
      "\n",
      "### 4. **Patient Comfort**\n",
      "- **Minimized Anxiety**: Many patients feel anxious about dental procedures, particularly those that involve drilling or other invasive techniques. The rubber dam can help alleviate some of this anxiety by preventing water, debris, and dental materials from entering the mouth.\n",
      "- **Improved Experience**: By keeping the treatment area dry and contained, patients may experience less discomfort and a more pleasant overall experience during their dental visit. The rubber dam also helps to prevent accidental swallowing or aspiration of small dental materials.\n",
      "\n",
      "### 5. **Additional Benefits**\n",
      "- **Efficiency**: The use of a rubber dam can increase the efficiency of dental procedures. With a clear and isolated working field, dentists can complete treatments more quickly and effectively.\n",
      "- **Versatility**: Rubber dams can be used in a variety of dental procedures, including restorative work, endodontics (root canals), and even some orthodontic treatments, making them a versatile tool in dental practice.\n",
      "- **Patient Education**: The use of a rubber dam can also serve as a visual aid for patients, helping them understand the procedure being performed and the importance of maintaining a clean working environment.\n",
      "\n",
      "In summary, the rubber dam is an essential tool in modern dentistry that enhances the quality of care by providing isolation, improving visibility, ensuring infection control, and increasing patient comfort during various dental procedures.\n"
     ]
    },
    {
     "ename": "KeyboardInterrupt",
     "evalue": "Interrupted by user",
     "output_type": "error",
     "traceback": [
      "\u001b[1;31m---------------------------------------------------------------------------\u001b[0m",
      "\u001b[1;31mKeyboardInterrupt\u001b[0m                         Traceback (most recent call last)",
      "Cell \u001b[1;32mIn[40], line 2\u001b[0m\n\u001b[0;32m      1\u001b[0m \u001b[38;5;28;01mwhile\u001b[39;00m \u001b[38;5;28;01mTrue\u001b[39;00m:\n\u001b[1;32m----> 2\u001b[0m     _input \u001b[38;5;241m=\u001b[39m \u001b[38;5;28;43minput\u001b[39;49m\u001b[43m(\u001b[49m\u001b[38;5;124;43m\"\u001b[39;49m\u001b[38;5;124;43mUser::\u001b[39;49m\u001b[38;5;124;43m\"\u001b[39;49m\u001b[43m)\u001b[49m\n\u001b[0;32m      3\u001b[0m     \u001b[38;5;28;01mif\u001b[39;00m _input \u001b[38;5;241m==\u001b[39m \u001b[38;5;124m'\u001b[39m\u001b[38;5;124mexit()\u001b[39m\u001b[38;5;124m'\u001b[39m:\n\u001b[0;32m      4\u001b[0m         \u001b[38;5;28mprint\u001b[39m(\u001b[38;5;124m\"\u001b[39m\u001b[38;5;124mThank you for using me you can come back to continue..\u001b[39m\u001b[38;5;124m\"\u001b[39m, end\u001b[38;5;241m=\u001b[39m\u001b[38;5;124m'\u001b[39m\u001b[38;5;130;01m\\n\u001b[39;00m\u001b[38;5;124m'\u001b[39m)\n",
      "File \u001b[1;32m~\\anaconda3\\envs\\GenAIWorkSpace\\lib\\site-packages\\ipykernel\\kernelbase.py:1282\u001b[0m, in \u001b[0;36mKernel.raw_input\u001b[1;34m(self, prompt)\u001b[0m\n\u001b[0;32m   1280\u001b[0m     msg \u001b[38;5;241m=\u001b[39m \u001b[38;5;124m\"\u001b[39m\u001b[38;5;124mraw_input was called, but this frontend does not support input requests.\u001b[39m\u001b[38;5;124m\"\u001b[39m\n\u001b[0;32m   1281\u001b[0m     \u001b[38;5;28;01mraise\u001b[39;00m StdinNotImplementedError(msg)\n\u001b[1;32m-> 1282\u001b[0m \u001b[38;5;28;01mreturn\u001b[39;00m \u001b[38;5;28;43mself\u001b[39;49m\u001b[38;5;241;43m.\u001b[39;49m\u001b[43m_input_request\u001b[49m\u001b[43m(\u001b[49m\n\u001b[0;32m   1283\u001b[0m \u001b[43m    \u001b[49m\u001b[38;5;28;43mstr\u001b[39;49m\u001b[43m(\u001b[49m\u001b[43mprompt\u001b[49m\u001b[43m)\u001b[49m\u001b[43m,\u001b[49m\n\u001b[0;32m   1284\u001b[0m \u001b[43m    \u001b[49m\u001b[38;5;28;43mself\u001b[39;49m\u001b[38;5;241;43m.\u001b[39;49m\u001b[43m_parent_ident\u001b[49m\u001b[43m[\u001b[49m\u001b[38;5;124;43m\"\u001b[39;49m\u001b[38;5;124;43mshell\u001b[39;49m\u001b[38;5;124;43m\"\u001b[39;49m\u001b[43m]\u001b[49m\u001b[43m,\u001b[49m\n\u001b[0;32m   1285\u001b[0m \u001b[43m    \u001b[49m\u001b[38;5;28;43mself\u001b[39;49m\u001b[38;5;241;43m.\u001b[39;49m\u001b[43mget_parent\u001b[49m\u001b[43m(\u001b[49m\u001b[38;5;124;43m\"\u001b[39;49m\u001b[38;5;124;43mshell\u001b[39;49m\u001b[38;5;124;43m\"\u001b[39;49m\u001b[43m)\u001b[49m\u001b[43m,\u001b[49m\n\u001b[0;32m   1286\u001b[0m \u001b[43m    \u001b[49m\u001b[43mpassword\u001b[49m\u001b[38;5;241;43m=\u001b[39;49m\u001b[38;5;28;43;01mFalse\u001b[39;49;00m\u001b[43m,\u001b[49m\n\u001b[0;32m   1287\u001b[0m \u001b[43m\u001b[49m\u001b[43m)\u001b[49m\n",
      "File \u001b[1;32m~\\anaconda3\\envs\\GenAIWorkSpace\\lib\\site-packages\\ipykernel\\kernelbase.py:1325\u001b[0m, in \u001b[0;36mKernel._input_request\u001b[1;34m(self, prompt, ident, parent, password)\u001b[0m\n\u001b[0;32m   1322\u001b[0m \u001b[38;5;28;01mexcept\u001b[39;00m \u001b[38;5;167;01mKeyboardInterrupt\u001b[39;00m:\n\u001b[0;32m   1323\u001b[0m     \u001b[38;5;66;03m# re-raise KeyboardInterrupt, to truncate traceback\u001b[39;00m\n\u001b[0;32m   1324\u001b[0m     msg \u001b[38;5;241m=\u001b[39m \u001b[38;5;124m\"\u001b[39m\u001b[38;5;124mInterrupted by user\u001b[39m\u001b[38;5;124m\"\u001b[39m\n\u001b[1;32m-> 1325\u001b[0m     \u001b[38;5;28;01mraise\u001b[39;00m \u001b[38;5;167;01mKeyboardInterrupt\u001b[39;00m(msg) \u001b[38;5;28;01mfrom\u001b[39;00m\u001b[38;5;250m \u001b[39m\u001b[38;5;28;01mNone\u001b[39;00m\n\u001b[0;32m   1326\u001b[0m \u001b[38;5;28;01mexcept\u001b[39;00m \u001b[38;5;167;01mException\u001b[39;00m:\n\u001b[0;32m   1327\u001b[0m     \u001b[38;5;28mself\u001b[39m\u001b[38;5;241m.\u001b[39mlog\u001b[38;5;241m.\u001b[39mwarning(\u001b[38;5;124m\"\u001b[39m\u001b[38;5;124mInvalid Message:\u001b[39m\u001b[38;5;124m\"\u001b[39m, exc_info\u001b[38;5;241m=\u001b[39m\u001b[38;5;28;01mTrue\u001b[39;00m)\n",
      "\u001b[1;31mKeyboardInterrupt\u001b[0m: Interrupted by user"
     ]
    }
   ],
   "source": [
    "while True:\n",
    "    _input = input(\"User::\")\n",
    "    if _input == 'exit()':\n",
    "        print(\"Thank you for using me you can come back to continue..\", end='\\n')\n",
    "        break\n",
    "    else:\n",
    "        response = conversational_rag_chain.invoke(\n",
    "            {\"input\": _input},\n",
    "            config={\n",
    "                \"configurable\": {\"session_id\": \"4565\"}\n",
    "            },\n",
    "        )[\"answer\"]\n",
    "        print(response, end='\\n')"
   ]
  },
  {
   "cell_type": "code",
   "execution_count": null,
   "id": "6603f87b-c817-48c6-89a6-902eb202b6b4",
   "metadata": {},
   "outputs": [],
   "source": []
  }
 ],
 "metadata": {
  "kernelspec": {
   "display_name": "Python 3 (ipykernel)",
   "language": "python",
   "name": "python3"
  },
  "language_info": {
   "codemirror_mode": {
    "name": "ipython",
    "version": 3
   },
   "file_extension": ".py",
   "mimetype": "text/x-python",
   "name": "python",
   "nbconvert_exporter": "python",
   "pygments_lexer": "ipython3",
   "version": "3.9.21"
  }
 },
 "nbformat": 4,
 "nbformat_minor": 5
}
